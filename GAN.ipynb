{
 "cells": [
  {
   "cell_type": "code",
   "execution_count": 1,
   "metadata": {},
   "outputs": [],
   "source": [
    "import torch\n",
    "import torchvision\n",
    "from torch import nn\n",
    "from torch import optim\n",
    "from torchvision import datasets\n",
    "from torchvision.transforms import v2 as T\n",
    "from torch.utils.data import Dataset, DataLoader\n",
    "from tqdm import tqdm\n",
    "import matplotlib.pyplot as plt\n",
    "from IPython.display import clear_output"
   ]
  },
  {
   "cell_type": "code",
   "execution_count": 2,
   "metadata": {},
   "outputs": [],
   "source": [
    "def plot_image(tensor):\n",
    "    plt.figure(figsize=(1.25, 1.25))\n",
    "    plt.axis('off')\n",
    "    plt.imshow(tensor.permute(1, 2, 0).numpy())"
   ]
  },
  {
   "cell_type": "code",
   "execution_count": 3,
   "metadata": {},
   "outputs": [],
   "source": [
    "class Generator(nn.Module):\n",
    "    def __init__(self):\n",
    "        super().__init__()\n",
    "        self.conv1 = nn.Conv2d(3, 128, kernel_size=3, padding=1)\n",
    "        self.bnorm1 = nn.BatchNorm2d(128)\n",
    "\n",
    "        self.conv2 = nn.Conv2d(128, 128, kernel_size=3, padding=1)\n",
    "        self.bnorm2 = nn.BatchNorm2d(128)\n",
    "\n",
    "        self.conv3 = nn.Conv2d(128, 128, kernel_size=3, padding=1)\n",
    "        self.bnorm3 = nn.BatchNorm2d(128)\n",
    "        \n",
    "        self.conv4 = nn.Conv2d(128, 3, kernel_size=3, padding=1)\n",
    "\n",
    "        self.lrelu = nn.LeakyReLU()\n",
    "        self.tanh = nn.Tanh()\n",
    "        \n",
    "\n",
    "    def forward(self, x):\n",
    "        x = self.lrelu(self.conv1(x))\n",
    "        x = self.bnorm1(x)\n",
    "\n",
    "        x = self.lrelu(self.conv2(x))\n",
    "        x = self.bnorm2(x)\n",
    "\n",
    "        x = self.lrelu(self.conv3(x))\n",
    "        x = self.bnorm3(x)\n",
    "        \n",
    "        x = self.tanh(self.conv4(x))\n",
    "        return x"
   ]
  },
  {
   "cell_type": "code",
   "execution_count": 4,
   "metadata": {},
   "outputs": [],
   "source": [
    "class Discriminator(nn.Module):\n",
    "    def __init__(self):\n",
    "        super().__init__()\n",
    "        self.conv1 = nn.Conv2d(3, 32, kernel_size=5)\n",
    "        self.bnorm1 = nn.BatchNorm2d(32)\n",
    "\n",
    "        self.conv2 = nn.Conv2d(32, 16, kernel_size=5)\n",
    "        self.bnorm2 = nn.BatchNorm2d(16)\n",
    "\n",
    "        self.conv3 = nn.Conv2d(16, 8, kernel_size=5)\n",
    "        self.bnorm3 = nn.BatchNorm2d(8)\n",
    "\n",
    "        self.conv4 = nn.Conv2d(8, 4, kernel_size=5)\n",
    "        self.bnorm4 = nn.BatchNorm2d(4)\n",
    "\n",
    "        self.conv5 = nn.Conv2d(4, 2, kernel_size=5)\n",
    "        self.bnorm5 = nn.BatchNorm2d(2)\n",
    "\n",
    "        self.conv6 = nn.Conv2d(2, 1, kernel_size=5)\n",
    "\n",
    "        self.fc = nn.Linear(64, 1)\n",
    "\n",
    "        self.lrelu = nn.LeakyReLU()\n",
    "        self.sigm = nn.Sigmoid()\n",
    "\n",
    "    def forward(self, x):\n",
    "        x = self.lrelu(self.conv1(x))\n",
    "        x = self.bnorm1(x)\n",
    "\n",
    "        x = self.lrelu(self.conv2(x))\n",
    "        x = self.bnorm2(x)\n",
    "\n",
    "        x = self.lrelu(self.conv3(x))\n",
    "        x = self.bnorm3(x)\n",
    "\n",
    "        x = self.lrelu(self.conv4(x))\n",
    "        x = self.bnorm4(x)\n",
    "\n",
    "        x = self.lrelu(self.conv5(x))\n",
    "        x = self.bnorm5(x)\n",
    "\n",
    "        x = self.lrelu(self.conv6(x))\n",
    "\n",
    "        x = x.view(x.size(0), -1)\n",
    "\n",
    "        x = self.sigm(self.fc(x))\n",
    "        return x"
   ]
  },
  {
   "cell_type": "code",
   "execution_count": 5,
   "metadata": {},
   "outputs": [],
   "source": [
    "mean = torch.tensor([0.49139968, 0.48215827 ,0.44653124])\n",
    "std = torch.tensor([0.24703233, 0.24348505, 0.26158768])\n",
    "transform = T.Compose([\n",
    "    T.ToImage(),\n",
    "    # T.Resize(size=(32, 32), antialias=True),\n",
    "    T.ToDtype(torch.float32, scale=True),\n",
    "    T.Normalize(mean=mean, std=std),\n",
    "])"
   ]
  },
  {
   "cell_type": "code",
   "execution_count": 6,
   "metadata": {},
   "outputs": [
    {
     "name": "stdout",
     "output_type": "stream",
     "text": [
      "Files already downloaded and verified\n"
     ]
    }
   ],
   "source": [
    "class CustomDataset(Dataset):\n",
    "    def __init__(self, root_dir, transform):\n",
    "        super().__init__()\n",
    "        self.root_dir = root_dir\n",
    "        self.transform = transform\n",
    "\n",
    "train_data = datasets.CIFAR10(\n",
    "    root=\"data\",\n",
    "    download=True,\n",
    "    transform=transform\n",
    ")\n",
    "\n",
    "train_loader = DataLoader(dataset=train_data, batch_size=512, shuffle=True)"
   ]
  },
  {
   "cell_type": "code",
   "execution_count": 7,
   "metadata": {},
   "outputs": [
    {
     "name": "stderr",
     "output_type": "stream",
     "text": [
      "Clipping input data to the valid range for imshow with RGB data ([0..1] for floats or [0..255] for integers). Got range [-1.9098384..2.1008148].\n"
     ]
    },
    {
     "data": {
      "image/png": "[encoded data removed]",
      "text/plain": [
       "<Figure size 125x125 with 1 Axes>"
      ]
     },
     "metadata": {},
     "output_type": "display_data"
    }
   ],
   "source": [
    "plot_image(train_data[1][0])"
   ]
  },
  {
   "cell_type": "code",
   "execution_count": 8,
   "metadata": {},
   "outputs": [],
   "source": [
    "device = torch.device(\"cuda\" if torch.cuda.is_available() else \"cpu\")\n",
    "generator = Generator().to(device)\n",
    "discriminator = Discriminator().to(device)\n",
    "criterion = nn.BCELoss()\n",
    "gen_optim = optim.AdamW(params=generator.parameters(), lr=1e-3, weight_decay=1e-4)\n",
    "dis_optim = optim.AdamW(params=discriminator.parameters(), lr=5e-4, weight_decay=1e-3)"
   ]
  },
  {
   "cell_type": "code",
   "execution_count": 9,
   "metadata": {},
   "outputs": [
    {
     "data": {
      "image/png": "[encoded data removed]",
      "text/plain": [
       "<Figure size 1200x300 with 1 Axes>"
      ]
     },
     "metadata": {},
     "output_type": "display_data"
    },
    {
     "data": {
      "image/png": "[encoded data removed]",
      "text/plain": [
       "<Figure size 1200x300 with 1 Axes>"
      ]
     },
     "metadata": {},
     "output_type": "display_data"
    },
    {
     "name": "stderr",
     "output_type": "stream",
     "text": [
      " 12%|█▏        | 3/25 [02:05<15:19, 41.78s/it]"
     ]
    }
   ],
   "source": [
    "gen_losses = []\n",
    "dis_losses = []\n",
    "\n",
    "generator.train()\n",
    "discriminator.train()\n",
    "\n",
    "num_epochs = 25\n",
    "for epoch in tqdm(range(num_epochs)):\n",
    "    \n",
    "    avg_gen_loss = 0\n",
    "    avg_dis_loss = 0\n",
    "    for images, _ in train_loader:\n",
    "        images = images.to(device)\n",
    "        gen_images = generator(torch.randn((len(images), 3, 32, 32)).to(device))\n",
    "        pred_cls = discriminator(torch.cat((images, gen_images)).detach())\n",
    "        \n",
    "        gt = torch.cat((0.7 + (1.0 - 0.7) * torch.rand(len(images), 1), 0.0 + (0.3 - 0.0) * torch.rand(len(images), 1))).to(device)\n",
    "\n",
    "        gen_loss = criterion(discriminator(gen_images), torch.ones(len(images), 1).to(device))\n",
    "        dis_loss = criterion(pred_cls, gt)\n",
    "\n",
    "        avg_gen_loss += gen_loss.item()\n",
    "        avg_dis_loss += dis_loss.item()\n",
    "\n",
    "        gen_optim.zero_grad()\n",
    "        gen_loss.backward()\n",
    "        gen_optim.step()\n",
    "\n",
    "        dis_optim.zero_grad()\n",
    "        dis_loss.backward()\n",
    "        dis_optim.step()\n",
    "    avg_gen_loss = avg_gen_loss / len(train_loader)\n",
    "    avg_dis_loss = avg_dis_loss / len(train_loader)\n",
    "\n",
    "    gen_losses.append(avg_gen_loss)\n",
    "    dis_losses.append(avg_dis_loss)\n",
    "\n",
    "    clear_output(wait=True)\n",
    "\n",
    "    plt.figure(figsize=(12, 3))\n",
    "    plt.title('Generator Loss Over Epochs')\n",
    "    plt.xlabel('Epoch')\n",
    "    plt.ylabel('Loss')\n",
    "    plt.grid(which='both', axis='y')\n",
    "    plt.plot(gen_losses, linestyle='-', color='b', label='Generator')\n",
    "    plt.gca().set_ylim(bottom=0)\n",
    "    plt.show()\n",
    "\n",
    "    plt.figure(figsize=(12, 3))\n",
    "    plt.title('Discriminator Loss Over Epochs')\n",
    "    plt.xlabel('Epoch')\n",
    "    plt.ylabel('Loss')\n",
    "    plt.grid(which='both', axis='y')\n",
    "    plt.plot(dis_losses, linestyle='-', color='r', label='Discriminator')\n",
    "    plt.gca().set_ylim(bottom=0)\n",
    "    plt.show()"
   ]
  },
  {
   "cell_type": "code",
   "execution_count": null,
   "metadata": {},
   "outputs": [],
   "source": [
    "with torch.no_grad():\n",
    "    test_image = torch.randn((1, 3, 32, 32)).to(device)\n",
    "    plot_image(test_image[0].cpu())\n",
    "    generated = (generator(test_image) + 1) / 2\n",
    "    plot_image(generated[0].cpu())"
   ]
  }
 ],
 "metadata": {
  "kernelspec": {
   "display_name": "base",
   "language": "python",
   "name": "python3"
  },
  "language_info": {
   "codemirror_mode": {
    "name": "ipython",
    "version": 3
   },
   "file_extension": ".py",
   "mimetype": "text/x-python",
   "name": "python",
   "nbconvert_exporter": "python",
   "pygments_lexer": "ipython3",
   "version": "3.11.9"
  }
 },
 "nbformat": 4,
 "nbformat_minor": 2
}
