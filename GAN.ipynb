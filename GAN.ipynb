{
 "cells": [
  {
   "cell_type": "code",
   "execution_count": 2,
   "metadata": {},
   "outputs": [],
   "source": [
    "import torch\n",
    "import torchvision\n",
    "from torch import nn\n",
    "from torch import optim\n",
    "from torchvision import datasets\n",
    "from torchvision.transforms import v2 as T\n",
    "from torch.utils.data import Dataset, DataLoader\n",
    "from tqdm import tqdm\n",
    "import matplotlib.pyplot as plt\n",
    "from IPython.display import clear_output"
   ]
  },
  {
   "cell_type": "code",
   "execution_count": 3,
   "metadata": {},
   "outputs": [],
   "source": [
    "def plot_image(tensor):\n",
    "    plt.figure(figsize=(1.25, 1.25))\n",
    "    plt.axis('off')\n",
    "    plt.imshow(tensor.permute(1, 2, 0).numpy())"
   ]
  },
  {
   "cell_type": "code",
   "execution_count": 4,
   "metadata": {},
   "outputs": [],
   "source": [
    "class Generator(nn.Module):\n",
    "    def __init__(self):\n",
    "        super().__init__()\n",
    "        self.conv1 = nn.Conv2d(3, 128, kernel_size=3, padding=1)\n",
    "        self.bnorm1 = nn.BatchNorm2d(128)\n",
    "\n",
    "        self.conv2 = nn.Conv2d(128, 128, kernel_size=3, padding=1)\n",
    "        self.bnorm2 = nn.BatchNorm2d(128)\n",
    "\n",
    "        self.conv3 = nn.Conv2d(128, 128, kernel_size=3, padding=1)\n",
    "        self.bnorm3 = nn.BatchNorm2d(128)\n",
    "        \n",
    "        self.conv4 = nn.Conv2d(128, 3, kernel_size=3, padding=1)\n",
    "\n",
    "        self.lrelu = nn.LeakyReLU()\n",
    "        self.sigm = nn.Sigmoid()\n",
    "        \n",
    "\n",
    "    def forward(self, x):\n",
    "        x = self.lrelu(self.conv1(x))\n",
    "        x = self.bnorm1(x)\n",
    "\n",
    "        x = self.lrelu(self.conv2(x))\n",
    "        x = self.bnorm2(x)\n",
    "\n",
    "        x = self.lrelu(self.conv3(x))\n",
    "        x = self.bnorm3(x)\n",
    "        \n",
    "        x = self.sigm(self.conv4(x))\n",
    "        return x"
   ]
  },
  {
   "cell_type": "code",
   "execution_count": 5,
   "metadata": {},
   "outputs": [],
   "source": [
    "class Discriminator(nn.Module):\n",
    "    def __init__(self):\n",
    "        super().__init__()\n",
    "        self.conv1 = nn.Conv2d(3, 32, kernel_size=5)\n",
    "        self.bnorm1 = nn.BatchNorm2d(32)\n",
    "\n",
    "        self.conv2 = nn.Conv2d(32, 16, kernel_size=5)\n",
    "        self.bnorm2 = nn.BatchNorm2d(16)\n",
    "\n",
    "        self.conv3 = nn.Conv2d(16, 8, kernel_size=5)\n",
    "        self.bnorm3 = nn.BatchNorm2d(8)\n",
    "\n",
    "        self.conv4 = nn.Conv2d(8, 4, kernel_size=5)\n",
    "        self.bnorm4 = nn.BatchNorm2d(4)\n",
    "\n",
    "        self.conv5 = nn.Conv2d(4, 2, kernel_size=5)\n",
    "        self.bnorm5 = nn.BatchNorm2d(2)\n",
    "\n",
    "        self.conv6 = nn.Conv2d(2, 1, kernel_size=5)\n",
    "\n",
    "        self.fc = nn.Linear(64, 1)\n",
    "\n",
    "        self.lrelu = nn.LeakyReLU()\n",
    "        self.sigm = nn.Sigmoid()\n",
    "\n",
    "    def forward(self, x, t):\n",
    "        x = self.lrelu(self.conv1(x))\n",
    "        x = self.bnorm1(x)\n",
    "\n",
    "        x = self.lrelu(self.conv2(x))\n",
    "        x = self.bnorm2(x)\n",
    "\n",
    "        x = self.lrelu(self.conv3(x))\n",
    "        x = self.bnorm3(x)\n",
    "\n",
    "        x = self.lrelu(self.conv4(x))\n",
    "        x = self.bnorm4(x)\n",
    "\n",
    "        x = self.lrelu(self.conv5(x))\n",
    "        x = self.bnorm5(x)\n",
    "\n",
    "        x = self.lrelu(self.conv6(x))\n",
    "\n",
    "        x = x.view(x.size(0), -1)\n",
    "\n",
    "        x = self.sigm(self.fc(x))\n",
    "        return x"
   ]
  },
  {
   "cell_type": "code",
   "execution_count": 6,
   "metadata": {},
   "outputs": [],
   "source": [
    "mean = torch.tensor([0.49139968, 0.48215827 ,0.44653124])\n",
    "std = torch.tensor([0.24703233, 0.24348505, 0.26158768])\n",
    "transform = T.Compose([\n",
    "    T.ToImage(),\n",
    "    # T.Resize(size=(32, 32), antialias=True),\n",
    "    T.ToDtype(torch.float32, scale=True),\n",
    "    # T.Normalize(mean=mean, std=std),\n",
    "])"
   ]
  },
  {
   "cell_type": "code",
   "execution_count": 7,
   "metadata": {},
   "outputs": [
    {
     "name": "stdout",
     "output_type": "stream",
     "text": [
      "Files already downloaded and verified\n"
     ]
    }
   ],
   "source": [
    "class CustomDataset(Dataset):\n",
    "    def __init__(self, root_dir, transform):\n",
    "        super().__init__()\n",
    "        self.root_dir = root_dir\n",
    "        self.transform = transform\n",
    "\n",
    "train_data = datasets.CIFAR10(\n",
    "    root=\"data\",\n",
    "    download=True,\n",
    "    transform=transform\n",
    ")\n",
    "\n",
    "train_loader = DataLoader(dataset=train_data, batch_size=512, shuffle=True)"
   ]
  },
  {
   "cell_type": "code",
   "execution_count": 10,
   "metadata": {},
   "outputs": [
    {
     "data": {
      "image/png": "[encoded data removed]",
      "text/plain": [
       "<Figure size 125x125 with 1 Axes>"
      ]
     },
     "metadata": {},
     "output_type": "display_data"
    }
   ],
   "source": [
    "plot_image(train_data[1][0])"
   ]
  },
  {
   "cell_type": "code",
   "execution_count": 9,
   "metadata": {},
   "outputs": [],
   "source": [
    "device = torch.device(\"cuda\" if torch.cuda.is_available() else \"cpu\")\n",
    "generator = Generator().to(device)\n",
    "discriminator = Discriminator().to(device)\n",
    "criterion = nn.MSELoss()\n",
    "optimizer = optim.AdamW(params=generator.parameters(), lr=1e-3, weight_decay=1e-3)\n",
    "optimizer = optim.AdamW(params=discriminator.parameters(), lr=1e-3, weight_decay=1e-3)"
   ]
  },
  {
   "cell_type": "code",
   "execution_count": null,
   "metadata": {},
   "outputs": [],
   "source": [
    "num_epochs = 500\n",
    "losses = []\n",
    "for epoch in tqdm(range(num_epochs)):\n",
    "\n",
    "    model.train()\n",
    "    avg_loss = 0\n",
    "    for images, _ in train_loader:\n",
    "        gen_images = generator(torch.randn((len(images), 3, 32, 32)).to(device))\n",
    "        classes = discriminator(torch.cat(images, gen_images))\n",
    "        correct = torch.cat(torch.ones(len(images), dtype=torch.int8()), torch.zeros(len(images), dtype=torch.int8()))\n",
    "\n",
    "        loss = criterion(output, noise)\n",
    "        avg_loss += loss.item()\n",
    "\n",
    "        optimizer.zero_grad()\n",
    "        loss.backward()\n",
    "        optimizer.step()\n",
    "    avg_loss = avg_loss / len(train_loader)\n",
    "    losses.append(avg_loss)\n",
    "\n",
    "    clear_output(wait=True)\n",
    "    plt.figure(figsize=(10, 10))\n",
    "    plt.title('Loss Over Epochs')\n",
    "    plt.xlabel('Epoch')\n",
    "    plt.ylabel('Loss')\n",
    "    plt.ylim(bottom=0.0) # , top=0.8)\n",
    "    plt.gca().yaxis.set_major_locator(plt.MultipleLocator(0.1))  # Major ticks every 0.1\n",
    "    plt.gca().yaxis.set_minor_locator(plt.MultipleLocator(0.01))  # Minor ticks every 0.01\n",
    "    plt.grid(which='both', axis='y')\n",
    "    plt.plot(losses, marker='o', linestyle='-', color='b', label='Loss')\n",
    "    plt.show()"
   ]
  },
  {
   "cell_type": "code",
   "execution_count": null,
   "metadata": {},
   "outputs": [],
   "source": [
    "with torch.no_grad():\n",
    "    test_image = torch.randn((1, 3, 32, 32)).to(device)\n",
    "    plot_image(test_image[0].cpu())\n",
    "    for t in range(time):\n",
    "        noise = model(test_image, torch.tensor([t]).to(device))\n",
    "        alpha = schedule[t]\n",
    "        test_image = (test_image - torch.sqrt(1 - alpha) * noise) / torch.sqrt(alpha)\n",
    "        plot_image(test_image[0].cpu())"
   ]
  }
 ],
 "metadata": {
  "kernelspec": {
   "display_name": "base",
   "language": "python",
   "name": "python3"
  },
  "language_info": {
   "codemirror_mode": {
    "name": "ipython",
    "version": 3
   },
   "file_extension": ".py",
   "mimetype": "text/x-python",
   "name": "python",
   "nbconvert_exporter": "python",
   "pygments_lexer": "ipython3",
   "version": "3.11.10"
  }
 },
 "nbformat": 4,
 "nbformat_minor": 2
}
